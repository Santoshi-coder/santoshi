{
  "cells": [
    {
      "cell_type": "code",
      "execution_count": 11,
      "id": "e53d17f0-10d2-4c69-a50a-0d18ce1f940c",
      "metadata": {
        "id": "e53d17f0-10d2-4c69-a50a-0d18ce1f940c"
      },
      "outputs": [],
      "source": [
        "import numpy as np\n",
        "import scipy.stats as stats"
      ]
    },
    {
      "cell_type": "markdown",
      "id": "814e68da-97b0-45b8-ae34-bfaf8ff1ed27",
      "metadata": {
        "id": "814e68da-97b0-45b8-ae34-bfaf8ff1ed27"
      },
      "source": [
        "#### Given Data"
      ]
    },
    {
      "cell_type": "code",
      "execution_count": 12,
      "id": "ec8ea607-ab3b-4d5a-9ba3-15bbca91fd97",
      "metadata": {
        "id": "ec8ea607-ab3b-4d5a-9ba3-15bbca91fd97"
      },
      "outputs": [],
      "source": [
        "data = np.array([1.13, 1.55, 1.43, 0.92, 1.25, 1.36, 1.32, 0.85, 1.07, 1.48, 1.20, 1.33, 1.18, 1.22, 1.29])\n",
        "n = len(data)"
      ]
    },
    {
      "cell_type": "code",
      "source": [
        "n"
      ],
      "metadata": {
        "colab": {
          "base_uri": "https://localhost:8080/"
        },
        "id": "ccPA19mgFTJw",
        "outputId": "5a256e56-7b03-4114-bcee-86da4442d04a"
      },
      "id": "ccPA19mgFTJw",
      "execution_count": 13,
      "outputs": [
        {
          "output_type": "execute_result",
          "data": {
            "text/plain": [
              "15"
            ]
          },
          "metadata": {},
          "execution_count": 13
        }
      ]
    },
    {
      "cell_type": "code",
      "source": [
        "# data ---> # Pass the data array to the np.mean() function\n",
        "mean_sample = np.mean(data)\n",
        "mean_sample"
      ],
      "metadata": {
        "colab": {
          "base_uri": "https://localhost:8080/"
        },
        "id": "R_pVMhRKFWRI",
        "outputId": "e0f9c8a9-ef5e-4fd6-8fbe-3ab8691c2e3b"
      },
      "id": "R_pVMhRKFWRI",
      "execution_count": 14,
      "outputs": [
        {
          "output_type": "execute_result",
          "data": {
            "text/plain": [
              "1.2386666666666666"
            ]
          },
          "metadata": {},
          "execution_count": 14
        }
      ]
    },
    {
      "cell_type": "code",
      "source": [
        "# The ddof=1 argument is crucial here. It stands for \"Delta Degrees of Freedom\" and is used to specify the divisor in the standard deviation calculation.\n",
        "std_sample = np.std(data, ddof=1)\n",
        "std_sample"
      ],
      "metadata": {
        "colab": {
          "base_uri": "https://localhost:8080/"
        },
        "id": "OLA4ohWPFdxA",
        "outputId": "66658280-9620-4a79-81ec-4369a1228d44"
      },
      "id": "OLA4ohWPFdxA",
      "execution_count": 15,
      "outputs": [
        {
          "output_type": "execute_result",
          "data": {
            "text/plain": [
              "0.19316412956959936"
            ]
          },
          "metadata": {},
          "execution_count": 15
        }
      ]
    },
    {
      "cell_type": "markdown",
      "id": "b4b27da6-0789-41f8-89bb-81d254eb6304",
      "metadata": {
        "id": "b4b27da6-0789-41f8-89bb-81d254eb6304"
      },
      "source": [
        "## Part A: Confidence Interval Using Sample Standard Deviation\n",
        "# 99% Confidence Interval using known population standard deviation"
      ]
    },
    {
      "cell_type": "code",
      "execution_count": 16,
      "id": "dc7e8e03-ee92-4d72-9cb9-7d1207d6640d",
      "metadata": {
        "id": "dc7e8e03-ee92-4d72-9cb9-7d1207d6640d",
        "outputId": "cf3c7e36-6bf6-4b06-898a-1b52f10719da",
        "colab": {
          "base_uri": "https://localhost:8080/"
        }
      },
      "outputs": [
        {
          "output_type": "execute_result",
          "data": {
            "text/plain": [
              "(1.0901973384384906, 1.3871359948948425)"
            ]
          },
          "metadata": {},
          "execution_count": 16
        }
      ],
      "source": [
        "confidence_level = 0.99\n",
        "alpha = 1 - confidence_level\n",
        "df = n - 1                                              # n = 14\n",
        "t_crit = stats.t.ppf(1 - alpha/2, df)\n",
        "\n",
        "margin_of_error = t_crit * (std_sample / np.sqrt(n))\n",
        "ci_lower = mean_sample - margin_of_error\n",
        "ci_upper = mean_sample + margin_of_error\n",
        "\n",
        "ci_sample_std = (ci_lower, ci_upper)\n",
        "ci_sample_std\n"
      ]
    },
    {
      "cell_type": "code",
      "source": [
        " alpha  ,df  ,  t_crit ,  margin_of_error , np.sqrt(n) ,ci_lower ,  ci_upper"
      ],
      "metadata": {
        "colab": {
          "base_uri": "https://localhost:8080/"
        },
        "id": "FRcSAxngIXy5",
        "outputId": "5cf30081-31e7-42e2-8795-0d07e389ccf9"
      },
      "id": "FRcSAxngIXy5",
      "execution_count": 17,
      "outputs": [
        {
          "output_type": "execute_result",
          "data": {
            "text/plain": [
              "(0.010000000000000009,\n",
              " 14,\n",
              " 2.976842734370834,\n",
              " 0.14846932822817596,\n",
              " 3.872983346207417,\n",
              " 1.0901973384384906,\n",
              " 1.3871359948948425)"
            ]
          },
          "metadata": {},
          "execution_count": 17
        }
      ]
    },
    {
      "cell_type": "markdown",
      "id": "ada666ff-f247-478a-bc41-b97ce337bdd8",
      "metadata": {
        "id": "ada666ff-f247-478a-bc41-b97ce337bdd8"
      },
      "source": [
        "## Step-by-Step Explanation:\n",
        "1. The confidence level is 99%, so the significance level (\\( \\alpha \\)) is 1 - 0.99 = 0.01.\n",
        "2. We calculate the t-critical value for \\( n - 1 \\) degrees of freedom (14 in this case).\n",
        "3. The margin of error is calculated as \\( t_{crit} \\times \\frac{s}{\\sqrt{n}} \\), where \\( s \\) is the sample standard deviation and \\( n \\) is the sample size.\n",
        "4. The confidence interval is then given by:  \n",
        "   \\( \\left( \\bar{x} - \\text{margin of error}, \\bar{x} + \\text{margin of error} \\right) \\)\n"
      ]
    },
    {
      "cell_type": "markdown",
      "id": "c39bfa80-acbc-496f-bea1-617d0899ad5d",
      "metadata": {
        "id": "c39bfa80-acbc-496f-bea1-617d0899ad5d"
      },
      "source": [
        "## Part B : Confidence Interval Using Known Population Standard Deviation\n",
        "# 99% Confidence Interval using known population standard deviation\n"
      ]
    },
    {
      "cell_type": "markdown",
      "source": [
        "If it were known that the population standard deviation is 0.2 million characters, construct a 99% confidence interval for the mean number of characters printed before failure."
      ],
      "metadata": {
        "id": "Jnx4YOOlJymn"
      },
      "id": "Jnx4YOOlJymn"
    },
    {
      "cell_type": "code",
      "execution_count": 18,
      "id": "74fdfaaa-af76-45e3-b878-3a4c005adb9b",
      "metadata": {
        "id": "74fdfaaa-af76-45e3-b878-3a4c005adb9b",
        "outputId": "389159d3-670e-4f4b-9af4-c7551937ef1e",
        "colab": {
          "base_uri": "https://localhost:8080/"
        }
      },
      "outputs": [
        {
          "output_type": "execute_result",
          "data": {
            "text/plain": [
              "(1.1056514133957607, 1.3716819199375725)"
            ]
          },
          "metadata": {},
          "execution_count": 18
        }
      ],
      "source": [
        "pop_std = 0.2\n",
        "z_crit = stats.norm.ppf(1 - alpha/2)  # z-critical value\n",
        "\n",
        "margin_of_error_pop = z_crit * (pop_std / np.sqrt(n))\n",
        "ci_lower_pop = mean_sample - margin_of_error_pop\n",
        "ci_upper_pop = mean_sample + margin_of_error_pop\n",
        "\n",
        "ci_pop_std = (ci_lower_pop, ci_upper_pop)\n",
        "ci_pop_std\n"
      ]
    },
    {
      "cell_type": "code",
      "source": [
        "alpha, df, z_crit, margin_of_error_pop, ci_lower_pop, ci_upper_pop"
      ],
      "metadata": {
        "colab": {
          "base_uri": "https://localhost:8080/"
        },
        "id": "KFXWhAqlKSEu",
        "outputId": "e584d302-4717-4e4b-a1ac-c1b411ebcdae"
      },
      "id": "KFXWhAqlKSEu",
      "execution_count": 19,
      "outputs": [
        {
          "output_type": "execute_result",
          "data": {
            "text/plain": [
              "(0.010000000000000009,\n",
              " 14,\n",
              " 2.5758293035489004,\n",
              " 0.13301525327090588,\n",
              " 1.1056514133957607,\n",
              " 1.3716819199375725)"
            ]
          },
          "metadata": {},
          "execution_count": 19
        }
      ]
    },
    {
      "cell_type": "markdown",
      "id": "58c39435-954a-4e86-b3ca-8b90179a8845",
      "metadata": {
        "id": "58c39435-954a-4e86-b3ca-8b90179a8845"
      },
      "source": [
        "## Step-by-Step Explanation:\n",
        "1. The confidence level is 99%, so the significance level is \\( \\alpha = 0.01 \\).\n",
        "\n",
        "2. The z-critical value is found using the standard normal distribution.\n",
        "\n",
        "3. The margin of error is calculated as \\( z_{crit} \\times \\frac{\\sigma}{\\sqrt{n}} \\), where \\( \\sigma \\) is the population standard deviation.\n",
        "\n",
        "4. The confidence interval is then given by:  \n",
        "   \\( \\left( \\bar{x} - \\text{margin of error}, \\bar{x} + \\text{margin of error} \\right) \\)\n"
      ]
    },
    {
      "cell_type": "markdown",
      "id": "693bf8ed-5f97-457e-a5ac-01a98088d101",
      "metadata": {
        "id": "693bf8ed-5f97-457e-a5ac-01a98088d101"
      },
      "source": [
        "## Summary"
      ]
    },
    {
      "cell_type": "code",
      "execution_count": 20,
      "id": "6249d087-ffac-415f-8d9f-764df30aee78",
      "metadata": {
        "id": "6249d087-ffac-415f-8d9f-764df30aee78"
      },
      "outputs": [],
      "source": [
        "# Let's summarize the results in terms of both confidence intervals:\n",
        "\n",
        "# - Confidence Interval using sample standard deviation (t-distribution).\n",
        "\n",
        "# - Confidence Interval using population standard deviation (z-distribution)."
      ]
    }
  ],
  "metadata": {
    "kernelspec": {
      "display_name": "Python 3 (ipykernel)",
      "language": "python",
      "name": "python3"
    },
    "language_info": {
      "codemirror_mode": {
        "name": "ipython",
        "version": 3
      },
      "file_extension": ".py",
      "mimetype": "text/x-python",
      "name": "python",
      "nbconvert_exporter": "python",
      "pygments_lexer": "ipython3",
      "version": "3.12.4"
    },
    "colab": {
      "provenance": []
    }
  },
  "nbformat": 4,
  "nbformat_minor": 5
}